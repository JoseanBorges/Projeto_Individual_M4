{
  "cells": [
    {
      "cell_type": "markdown",
      "metadata": {
        "id": "VKSkITSWdiUh"
      },
      "source": [
        "# <font color = blue size = 44 align = center> **Relatórios de progresso.**"
      ]
    },
    {
      "cell_type": "markdown",
      "metadata": {},
      "source": [
        "## <font color = darkblue> Apresentação"
      ]
    },
    {
      "cell_type": "markdown",
      "metadata": {},
      "source": [
        "Neste documento, vamos conduzir um exame detalhado dos dados gerados pelo projeto de engenharia de software executado pela companhia responsável. O objetivo é proporcionar percepções valiosas sobre o avanço do projeto, detectar setores que necessitam de otimização e sugerir ações pautadas em dados que contribuam para assegurar o triunfo do projeto.\n",
        "\n",
        "Na sequência temos a importação das bibliotecas que serão usadas, além da exibição da tabela contendo o resultado da coleta de dados no período de 01 semana."
      ]
    },
    {
      "cell_type": "code",
      "execution_count": 4,
      "metadata": {
        "id": "3zY8_1cNU9SD"
      },
      "outputs": [],
      "source": [
        "import pandas as pd\n",
        "import numpy as np\n",
        "import matplotlib.pyplot as plt"
      ]
    },
    {
      "cell_type": "code",
      "execution_count": 5,
      "metadata": {
        "colab": {
          "base_uri": "https://localhost:8080/",
          "height": 269
        },
        "id": "piOTkzE8VLMO",
        "outputId": "9655144a-c984-4be4-a72c-996cd8d6121a"
      },
      "outputs": [
        {
          "data": {
            "text/html": [
              "<div>\n",
              "<style scoped>\n",
              "    .dataframe tbody tr th:only-of-type {\n",
              "        vertical-align: middle;\n",
              "    }\n",
              "\n",
              "    .dataframe tbody tr th {\n",
              "        vertical-align: top;\n",
              "    }\n",
              "\n",
              "    .dataframe thead th {\n",
              "        text-align: right;\n",
              "    }\n",
              "</style>\n",
              "<table border=\"1\" class=\"dataframe\">\n",
              "  <thead>\n",
              "    <tr style=\"text-align: right;\">\n",
              "      <th></th>\n",
              "      <th>Dias</th>\n",
              "      <th>Horas Trabalhadas</th>\n",
              "      <th>Bugs Corrigidos</th>\n",
              "      <th>Tarefas Concluídas</th>\n",
              "    </tr>\n",
              "  </thead>\n",
              "  <tbody>\n",
              "    <tr>\n",
              "      <th>0</th>\n",
              "      <td>Segunda</td>\n",
              "      <td>6</td>\n",
              "      <td>3</td>\n",
              "      <td>5</td>\n",
              "    </tr>\n",
              "    <tr>\n",
              "      <th>1</th>\n",
              "      <td>Terça</td>\n",
              "      <td>7</td>\n",
              "      <td>2</td>\n",
              "      <td>4</td>\n",
              "    </tr>\n",
              "    <tr>\n",
              "      <th>2</th>\n",
              "      <td>Quarta</td>\n",
              "      <td>8</td>\n",
              "      <td>1</td>\n",
              "      <td>6</td>\n",
              "    </tr>\n",
              "    <tr>\n",
              "      <th>3</th>\n",
              "      <td>Quinta</td>\n",
              "      <td>6</td>\n",
              "      <td>4</td>\n",
              "      <td>4</td>\n",
              "    </tr>\n",
              "    <tr>\n",
              "      <th>4</th>\n",
              "      <td>Sexta</td>\n",
              "      <td>7</td>\n",
              "      <td>3</td>\n",
              "      <td>5</td>\n",
              "    </tr>\n",
              "    <tr>\n",
              "      <th>5</th>\n",
              "      <td>Sábado</td>\n",
              "      <td>5</td>\n",
              "      <td>2</td>\n",
              "      <td>3</td>\n",
              "    </tr>\n",
              "    <tr>\n",
              "      <th>6</th>\n",
              "      <td>Domingo</td>\n",
              "      <td>4</td>\n",
              "      <td>1</td>\n",
              "      <td>2</td>\n",
              "    </tr>\n",
              "  </tbody>\n",
              "</table>\n",
              "</div>"
            ],
            "text/plain": [
              "      Dias  Horas Trabalhadas  Bugs Corrigidos  Tarefas Concluídas\n",
              "0  Segunda                  6                3                   5\n",
              "1    Terça                  7                2                   4\n",
              "2   Quarta                  8                1                   6\n",
              "3   Quinta                  6                4                   4\n",
              "4    Sexta                  7                3                   5\n",
              "5   Sábado                  5                2                   3\n",
              "6  Domingo                  4                1                   2"
            ]
          },
          "execution_count": 5,
          "metadata": {},
          "output_type": "execute_result"
        }
      ],
      "source": [
        "# Criando a tabela.\n",
        "dados_semana = pd.DataFrame([['Segunda',6,3,5],['Terça',7,2,4],['Quarta',8,1,6],\n",
        " ['Quinta',6,4,4],['Sexta',7,3,5],['Sábado',5,2,3],['Domingo',4,1,2]],\n",
        "                  columns = ['Dias', 'Horas Trabalhadas', 'Bugs Corrigidos', 'Tarefas Concluídas'])\n",
        "dados_semana"
      ]
    },
    {
      "cell_type": "code",
      "execution_count": 6,
      "metadata": {
        "colab": {
          "base_uri": "https://localhost:8080/"
        },
        "id": "LVV0Z2UfVRVu",
        "outputId": "8e6e3c7f-4969-4fe5-f2b5-abaae766d00c"
      },
      "outputs": [
        {
          "name": "stdout",
          "output_type": "stream",
          "text": [
            "Horas trabalhadas na semana: 43\n"
          ]
        }
      ],
      "source": [
        "# Soma das Horas Trabalhadas na semana.\n",
        "soma_horas = dados_semana['Horas Trabalhadas'].sum()\n",
        "print('Horas trabalhadas na semana:', soma_horas)"
      ]
    },
    {
      "cell_type": "code",
      "execution_count": 7,
      "metadata": {
        "colab": {
          "base_uri": "https://localhost:8080/"
        },
        "id": "fnk_aj91aMoV",
        "outputId": "cbe65d0c-4762-4926-bd18-640c6077496d"
      },
      "outputs": [
        {
          "name": "stdout",
          "output_type": "stream",
          "text": [
            "Média de horas trabalhadas no período: 6.14\n"
          ]
        }
      ],
      "source": [
        "# Média diária de horas trabalhadas.\n",
        "media_horas = round(dados_semana['Horas Trabalhadas'].mean(), 2)\n",
        "print('Média de horas trabalhadas no período:', media_horas)"
      ]
    },
    {
      "cell_type": "code",
      "execution_count": 8,
      "metadata": {
        "colab": {
          "base_uri": "https://localhost:8080/"
        },
        "id": "NNV4bjPVdzUb",
        "outputId": "34c1a6ca-ab46-44b7-c5c7-434e9d63ea29"
      },
      "outputs": [
        {
          "name": "stdout",
          "output_type": "stream",
          "text": [
            "Quantidade de bugs corrigidos: 16\n"
          ]
        }
      ],
      "source": [
        "# Total de bugs corrigidos.\n",
        "bug_correcao = dados_semana['Bugs Corrigidos'].sum()\n",
        "print('Quantidade de bugs corrigidos:', bug_correcao)"
      ]
    },
    {
      "cell_type": "code",
      "execution_count": 9,
      "metadata": {
        "colab": {
          "base_uri": "https://localhost:8080/"
        },
        "id": "uxzNjcSqe0eF",
        "outputId": "58307eb8-99ed-4d12-f08b-62632a8b0a15"
      },
      "outputs": [
        {
          "name": "stdout",
          "output_type": "stream",
          "text": [
            "Média dos bugs corrigidos a cada dia: 2.3\n"
          ]
        }
      ],
      "source": [
        "# Média de bugs corrigidos por dia.\n",
        "debug_dia = round(dados_semana['Bugs Corrigidos'].mean(), 1)\n",
        "print('Média dos bugs corrigidos a cada dia:', debug_dia)"
      ]
    },
    {
      "cell_type": "code",
      "execution_count": 10,
      "metadata": {
        "colab": {
          "base_uri": "https://localhost:8080/"
        },
        "id": "b5qNlCVXgHz3",
        "outputId": "6d5eb670-bd3f-4836-f770-aa2e3d4761e9"
      },
      "outputs": [
        {
          "name": "stdout",
          "output_type": "stream",
          "text": [
            "29 tarefas foram concluídas ao longo da semana.\n"
          ]
        }
      ],
      "source": [
        "# Tarefas Concluídas no total.\n",
        "t_concluidas = dados_semana['Tarefas Concluídas'].sum()\n",
        "print(t_concluidas, 'tarefas foram concluídas ao longo da semana.')"
      ]
    },
    {
      "cell_type": "code",
      "execution_count": 11,
      "metadata": {
        "colab": {
          "base_uri": "https://localhost:8080/"
        },
        "id": "Bz8mUrlbgIJ_",
        "outputId": "4ac2a43a-ab95-479a-8005-ff6a38ef2d81"
      },
      "outputs": [
        {
          "name": "stdout",
          "output_type": "stream",
          "text": [
            "Com 4.14 concluídas por dia.\n"
          ]
        }
      ],
      "source": [
        "# Médias de Tarefas concluídas.\n",
        "tc_media = round(dados_semana['Tarefas Concluídas'].mean(), 2)\n",
        "print('Com', tc_media, 'concluídas por dia.')"
      ]
    },
    {
      "cell_type": "markdown",
      "metadata": {},
      "source": [
        "* Para melhoras a extração da quantidade de tarefas concluídas por hora, houve a necessidade de fazer adição de uma coluna de mesmo nome."
      ]
    },
    {
      "cell_type": "code",
      "execution_count": 12,
      "metadata": {
        "colab": {
          "base_uri": "https://localhost:8080/",
          "height": 269
        },
        "id": "PrUgAadmq4U9",
        "outputId": "dde844f1-95f6-4d79-d26f-a6f6ed4b3319"
      },
      "outputs": [
        {
          "data": {
            "text/html": [
              "<div>\n",
              "<style scoped>\n",
              "    .dataframe tbody tr th:only-of-type {\n",
              "        vertical-align: middle;\n",
              "    }\n",
              "\n",
              "    .dataframe tbody tr th {\n",
              "        vertical-align: top;\n",
              "    }\n",
              "\n",
              "    .dataframe thead th {\n",
              "        text-align: right;\n",
              "    }\n",
              "</style>\n",
              "<table border=\"1\" class=\"dataframe\">\n",
              "  <thead>\n",
              "    <tr style=\"text-align: right;\">\n",
              "      <th></th>\n",
              "      <th>Dias</th>\n",
              "      <th>Horas Trabalhadas</th>\n",
              "      <th>Bugs Corrigidos</th>\n",
              "      <th>Tarefas Concluídas</th>\n",
              "      <th>Tarefas Concluídas por Hora</th>\n",
              "    </tr>\n",
              "  </thead>\n",
              "  <tbody>\n",
              "    <tr>\n",
              "      <th>0</th>\n",
              "      <td>Segunda</td>\n",
              "      <td>6</td>\n",
              "      <td>3</td>\n",
              "      <td>5</td>\n",
              "      <td>0.83</td>\n",
              "    </tr>\n",
              "    <tr>\n",
              "      <th>1</th>\n",
              "      <td>Terça</td>\n",
              "      <td>7</td>\n",
              "      <td>2</td>\n",
              "      <td>4</td>\n",
              "      <td>0.57</td>\n",
              "    </tr>\n",
              "    <tr>\n",
              "      <th>2</th>\n",
              "      <td>Quarta</td>\n",
              "      <td>8</td>\n",
              "      <td>1</td>\n",
              "      <td>6</td>\n",
              "      <td>0.75</td>\n",
              "    </tr>\n",
              "    <tr>\n",
              "      <th>3</th>\n",
              "      <td>Quinta</td>\n",
              "      <td>6</td>\n",
              "      <td>4</td>\n",
              "      <td>4</td>\n",
              "      <td>0.67</td>\n",
              "    </tr>\n",
              "    <tr>\n",
              "      <th>4</th>\n",
              "      <td>Sexta</td>\n",
              "      <td>7</td>\n",
              "      <td>3</td>\n",
              "      <td>5</td>\n",
              "      <td>0.71</td>\n",
              "    </tr>\n",
              "    <tr>\n",
              "      <th>5</th>\n",
              "      <td>Sábado</td>\n",
              "      <td>5</td>\n",
              "      <td>2</td>\n",
              "      <td>3</td>\n",
              "      <td>0.60</td>\n",
              "    </tr>\n",
              "    <tr>\n",
              "      <th>6</th>\n",
              "      <td>Domingo</td>\n",
              "      <td>4</td>\n",
              "      <td>1</td>\n",
              "      <td>2</td>\n",
              "      <td>0.50</td>\n",
              "    </tr>\n",
              "  </tbody>\n",
              "</table>\n",
              "</div>"
            ],
            "text/plain": [
              "      Dias  Horas Trabalhadas  Bugs Corrigidos  Tarefas Concluídas  \\\n",
              "0  Segunda                  6                3                   5   \n",
              "1    Terça                  7                2                   4   \n",
              "2   Quarta                  8                1                   6   \n",
              "3   Quinta                  6                4                   4   \n",
              "4    Sexta                  7                3                   5   \n",
              "5   Sábado                  5                2                   3   \n",
              "6  Domingo                  4                1                   2   \n",
              "\n",
              "   Tarefas Concluídas por Hora  \n",
              "0                         0.83  \n",
              "1                         0.57  \n",
              "2                         0.75  \n",
              "3                         0.67  \n",
              "4                         0.71  \n",
              "5                         0.60  \n",
              "6                         0.50  "
            ]
          },
          "execution_count": 12,
          "metadata": {},
          "output_type": "execute_result"
        }
      ],
      "source": [
        "# Adicionando coluna de tarefas concluídas por hora.\n",
        "dados_semana['Tarefas Concluídas por Hora'] = round(dados_semana['Tarefas Concluídas'] / dados_semana['Horas Trabalhadas'], 2)\n",
        "dados_semana\n"
      ]
    },
    {
      "cell_type": "code",
      "execution_count": 13,
      "metadata": {},
      "outputs": [
        {
          "data": {
            "text/html": [
              "<div>\n",
              "<style scoped>\n",
              "    .dataframe tbody tr th:only-of-type {\n",
              "        vertical-align: middle;\n",
              "    }\n",
              "\n",
              "    .dataframe tbody tr th {\n",
              "        vertical-align: top;\n",
              "    }\n",
              "\n",
              "    .dataframe thead th {\n",
              "        text-align: right;\n",
              "    }\n",
              "</style>\n",
              "<table border=\"1\" class=\"dataframe\">\n",
              "  <thead>\n",
              "    <tr style=\"text-align: right;\">\n",
              "      <th></th>\n",
              "      <th>Horas Trabalhadas</th>\n",
              "      <th>Bugs Corrigidos</th>\n",
              "      <th>Tarefas Concluídas</th>\n",
              "      <th>Tarefas Concluídas por Hora</th>\n",
              "    </tr>\n",
              "  </thead>\n",
              "  <tbody>\n",
              "    <tr>\n",
              "      <th>count</th>\n",
              "      <td>7.00</td>\n",
              "      <td>7.00</td>\n",
              "      <td>7.00</td>\n",
              "      <td>7.00</td>\n",
              "    </tr>\n",
              "    <tr>\n",
              "      <th>mean</th>\n",
              "      <td>6.14</td>\n",
              "      <td>2.29</td>\n",
              "      <td>4.14</td>\n",
              "      <td>0.66</td>\n",
              "    </tr>\n",
              "    <tr>\n",
              "      <th>std</th>\n",
              "      <td>1.35</td>\n",
              "      <td>1.11</td>\n",
              "      <td>1.35</td>\n",
              "      <td>0.11</td>\n",
              "    </tr>\n",
              "    <tr>\n",
              "      <th>min</th>\n",
              "      <td>4.00</td>\n",
              "      <td>1.00</td>\n",
              "      <td>2.00</td>\n",
              "      <td>0.50</td>\n",
              "    </tr>\n",
              "    <tr>\n",
              "      <th>25%</th>\n",
              "      <td>5.50</td>\n",
              "      <td>1.50</td>\n",
              "      <td>3.50</td>\n",
              "      <td>0.58</td>\n",
              "    </tr>\n",
              "    <tr>\n",
              "      <th>50%</th>\n",
              "      <td>6.00</td>\n",
              "      <td>2.00</td>\n",
              "      <td>4.00</td>\n",
              "      <td>0.67</td>\n",
              "    </tr>\n",
              "    <tr>\n",
              "      <th>75%</th>\n",
              "      <td>7.00</td>\n",
              "      <td>3.00</td>\n",
              "      <td>5.00</td>\n",
              "      <td>0.73</td>\n",
              "    </tr>\n",
              "    <tr>\n",
              "      <th>max</th>\n",
              "      <td>8.00</td>\n",
              "      <td>4.00</td>\n",
              "      <td>6.00</td>\n",
              "      <td>0.83</td>\n",
              "    </tr>\n",
              "  </tbody>\n",
              "</table>\n",
              "</div>"
            ],
            "text/plain": [
              "       Horas Trabalhadas  Bugs Corrigidos  Tarefas Concluídas  \\\n",
              "count               7.00             7.00                7.00   \n",
              "mean                6.14             2.29                4.14   \n",
              "std                 1.35             1.11                1.35   \n",
              "min                 4.00             1.00                2.00   \n",
              "25%                 5.50             1.50                3.50   \n",
              "50%                 6.00             2.00                4.00   \n",
              "75%                 7.00             3.00                5.00   \n",
              "max                 8.00             4.00                6.00   \n",
              "\n",
              "       Tarefas Concluídas por Hora  \n",
              "count                         7.00  \n",
              "mean                          0.66  \n",
              "std                           0.11  \n",
              "min                           0.50  \n",
              "25%                           0.58  \n",
              "50%                           0.67  \n",
              "75%                           0.73  \n",
              "max                           0.83  "
            ]
          },
          "execution_count": 13,
          "metadata": {},
          "output_type": "execute_result"
        }
      ],
      "source": [
        "#Amostragem para análise descritiva.\n",
        "round(dados_semana.describe(),2)"
      ]
    },
    {
      "cell_type": "markdown",
      "metadata": {},
      "source": [
        "---"
      ]
    },
    {
      "cell_type": "markdown",
      "metadata": {},
      "source": [
        "Baseado na análise destes dados e nas métricas avaliadas, podemos inferir o seguinte sobre cada tópico:\n",
        "\n",
        "**Horas Trabalhadas:**\n",
        "\n",
        "- Durante a semana, o tempo total de trabalho foi de 43 horas.\n",
        "- A média de horas trabalhadas por dia ficou em torno de 6,14 horas.\n",
        "- Quarta-feira foi o dia com a maior quantidade de horas trabalhadas, totalizando 8 horas.\n",
        "- Domingo foi o dia em que se trabalhou menos, com apenas 4 horas trabalhadas.\n",
        "\n",
        "**Bugs Corrigidos:**\n",
        "\n",
        "- Durante a semana, corrigimos um total de 16 bugs.\n",
        "- A média diária de correção de bugs ficou por volta de 2,29.\n",
        "- Quinta-feira foi o dia em que mais bugs foram corrigidos, com um total de 4.\n",
        "- Tanto na quarta-feira quanto no domingo, tivemos o menor número de correções de bugs, sendo apenas 1 em cada dia.\n",
        "\n",
        "**Tarefas Concluídas:**\n",
        "\n",
        "- Ao longo da semana, concluímos um total de 29 tarefas.\n",
        "- A média de tarefas concluídas por dia foi de mais ou menos 4,14.\n",
        "- Quarta-feira foi o dia em que mais tarefas foram finalizadas, totalizando 6.\n",
        "- Já no sábado e no domingo, tivemos os menores números de tarefas concluídas, com 2 tarefas finalizadas em cada dia.  \n",
        "\n",
        "**Tarefas Concluídas por hora**\n",
        "\n",
        "- É possível afirmar que a segunda foi o dia mais produtivo, e domingo o seu inverso.\n",
        "- Ao longo da semana a média das tarefas concluídas por hora correspondeu a 0,66."
      ]
    },
    {
      "cell_type": "markdown",
      "metadata": {},
      "source": [
        "---"
      ]
    },
    {
      "cell_type": "markdown",
      "metadata": {},
      "source": [
        "### <font color = blue> **Visualização de gráficos**"
      ]
    },
    {
      "cell_type": "markdown",
      "metadata": {},
      "source": [
        "* Preparando as colunas que serão exibidas em gráfico."
      ]
    },
    {
      "cell_type": "code",
      "execution_count": 14,
      "metadata": {},
      "outputs": [
        {
          "data": {
            "text/html": [
              "<div>\n",
              "<style scoped>\n",
              "    .dataframe tbody tr th:only-of-type {\n",
              "        vertical-align: middle;\n",
              "    }\n",
              "\n",
              "    .dataframe tbody tr th {\n",
              "        vertical-align: top;\n",
              "    }\n",
              "\n",
              "    .dataframe thead th {\n",
              "        text-align: right;\n",
              "    }\n",
              "</style>\n",
              "<table border=\"1\" class=\"dataframe\">\n",
              "  <thead>\n",
              "    <tr style=\"text-align: right;\">\n",
              "      <th></th>\n",
              "      <th>Dias</th>\n",
              "      <th>Horas Trabalhadas</th>\n",
              "    </tr>\n",
              "  </thead>\n",
              "  <tbody>\n",
              "    <tr>\n",
              "      <th>0</th>\n",
              "      <td>Segunda</td>\n",
              "      <td>6</td>\n",
              "    </tr>\n",
              "    <tr>\n",
              "      <th>1</th>\n",
              "      <td>Terça</td>\n",
              "      <td>7</td>\n",
              "    </tr>\n",
              "    <tr>\n",
              "      <th>2</th>\n",
              "      <td>Quarta</td>\n",
              "      <td>8</td>\n",
              "    </tr>\n",
              "    <tr>\n",
              "      <th>3</th>\n",
              "      <td>Quinta</td>\n",
              "      <td>6</td>\n",
              "    </tr>\n",
              "    <tr>\n",
              "      <th>4</th>\n",
              "      <td>Sexta</td>\n",
              "      <td>7</td>\n",
              "    </tr>\n",
              "    <tr>\n",
              "      <th>5</th>\n",
              "      <td>Sábado</td>\n",
              "      <td>5</td>\n",
              "    </tr>\n",
              "    <tr>\n",
              "      <th>6</th>\n",
              "      <td>Domingo</td>\n",
              "      <td>4</td>\n",
              "    </tr>\n",
              "  </tbody>\n",
              "</table>\n",
              "</div>"
            ],
            "text/plain": [
              "      Dias  Horas Trabalhadas\n",
              "0  Segunda                  6\n",
              "1    Terça                  7\n",
              "2   Quarta                  8\n",
              "3   Quinta                  6\n",
              "4    Sexta                  7\n",
              "5   Sábado                  5\n",
              "6  Domingo                  4"
            ]
          },
          "execution_count": 14,
          "metadata": {},
          "output_type": "execute_result"
        }
      ],
      "source": [
        "dados_semana[['Dias', 'Horas Trabalhadas']]"
      ]
    },
    {
      "cell_type": "code",
      "execution_count": 15,
      "metadata": {},
      "outputs": [
        {
          "data": {
            "text/html": [
              "<div>\n",
              "<style scoped>\n",
              "    .dataframe tbody tr th:only-of-type {\n",
              "        vertical-align: middle;\n",
              "    }\n",
              "\n",
              "    .dataframe tbody tr th {\n",
              "        vertical-align: top;\n",
              "    }\n",
              "\n",
              "    .dataframe thead th {\n",
              "        text-align: right;\n",
              "    }\n",
              "</style>\n",
              "<table border=\"1\" class=\"dataframe\">\n",
              "  <thead>\n",
              "    <tr style=\"text-align: right;\">\n",
              "      <th></th>\n",
              "      <th>Dias</th>\n",
              "      <th>Bugs Corrigidos</th>\n",
              "    </tr>\n",
              "  </thead>\n",
              "  <tbody>\n",
              "    <tr>\n",
              "      <th>0</th>\n",
              "      <td>Segunda</td>\n",
              "      <td>3</td>\n",
              "    </tr>\n",
              "    <tr>\n",
              "      <th>1</th>\n",
              "      <td>Terça</td>\n",
              "      <td>2</td>\n",
              "    </tr>\n",
              "    <tr>\n",
              "      <th>2</th>\n",
              "      <td>Quarta</td>\n",
              "      <td>1</td>\n",
              "    </tr>\n",
              "    <tr>\n",
              "      <th>3</th>\n",
              "      <td>Quinta</td>\n",
              "      <td>4</td>\n",
              "    </tr>\n",
              "    <tr>\n",
              "      <th>4</th>\n",
              "      <td>Sexta</td>\n",
              "      <td>3</td>\n",
              "    </tr>\n",
              "    <tr>\n",
              "      <th>5</th>\n",
              "      <td>Sábado</td>\n",
              "      <td>2</td>\n",
              "    </tr>\n",
              "    <tr>\n",
              "      <th>6</th>\n",
              "      <td>Domingo</td>\n",
              "      <td>1</td>\n",
              "    </tr>\n",
              "  </tbody>\n",
              "</table>\n",
              "</div>"
            ],
            "text/plain": [
              "      Dias  Bugs Corrigidos\n",
              "0  Segunda                3\n",
              "1    Terça                2\n",
              "2   Quarta                1\n",
              "3   Quinta                4\n",
              "4    Sexta                3\n",
              "5   Sábado                2\n",
              "6  Domingo                1"
            ]
          },
          "execution_count": 15,
          "metadata": {},
          "output_type": "execute_result"
        }
      ],
      "source": [
        "dados_semana0 = dados_semana[['Dias', 'Bugs Corrigidos']]\n",
        "dados_semana0"
      ]
    },
    {
      "cell_type": "code",
      "execution_count": 16,
      "metadata": {},
      "outputs": [
        {
          "data": {
            "text/html": [
              "<div>\n",
              "<style scoped>\n",
              "    .dataframe tbody tr th:only-of-type {\n",
              "        vertical-align: middle;\n",
              "    }\n",
              "\n",
              "    .dataframe tbody tr th {\n",
              "        vertical-align: top;\n",
              "    }\n",
              "\n",
              "    .dataframe thead th {\n",
              "        text-align: right;\n",
              "    }\n",
              "</style>\n",
              "<table border=\"1\" class=\"dataframe\">\n",
              "  <thead>\n",
              "    <tr style=\"text-align: right;\">\n",
              "      <th></th>\n",
              "      <th>Dias</th>\n",
              "      <th>Tarefas Concluídas</th>\n",
              "    </tr>\n",
              "  </thead>\n",
              "  <tbody>\n",
              "    <tr>\n",
              "      <th>0</th>\n",
              "      <td>Segunda</td>\n",
              "      <td>5</td>\n",
              "    </tr>\n",
              "    <tr>\n",
              "      <th>1</th>\n",
              "      <td>Terça</td>\n",
              "      <td>4</td>\n",
              "    </tr>\n",
              "    <tr>\n",
              "      <th>2</th>\n",
              "      <td>Quarta</td>\n",
              "      <td>6</td>\n",
              "    </tr>\n",
              "    <tr>\n",
              "      <th>3</th>\n",
              "      <td>Quinta</td>\n",
              "      <td>4</td>\n",
              "    </tr>\n",
              "    <tr>\n",
              "      <th>4</th>\n",
              "      <td>Sexta</td>\n",
              "      <td>5</td>\n",
              "    </tr>\n",
              "    <tr>\n",
              "      <th>5</th>\n",
              "      <td>Sábado</td>\n",
              "      <td>3</td>\n",
              "    </tr>\n",
              "    <tr>\n",
              "      <th>6</th>\n",
              "      <td>Domingo</td>\n",
              "      <td>2</td>\n",
              "    </tr>\n",
              "  </tbody>\n",
              "</table>\n",
              "</div>"
            ],
            "text/plain": [
              "      Dias  Tarefas Concluídas\n",
              "0  Segunda                   5\n",
              "1    Terça                   4\n",
              "2   Quarta                   6\n",
              "3   Quinta                   4\n",
              "4    Sexta                   5\n",
              "5   Sábado                   3\n",
              "6  Domingo                   2"
            ]
          },
          "execution_count": 16,
          "metadata": {},
          "output_type": "execute_result"
        }
      ],
      "source": [
        "dados_semana1 = dados_semana[['Dias', 'Tarefas Concluídas']]\n",
        "dados_semana1"
      ]
    },
    {
      "cell_type": "code",
      "execution_count": 17,
      "metadata": {},
      "outputs": [
        {
          "data": {
            "text/html": [
              "<div>\n",
              "<style scoped>\n",
              "    .dataframe tbody tr th:only-of-type {\n",
              "        vertical-align: middle;\n",
              "    }\n",
              "\n",
              "    .dataframe tbody tr th {\n",
              "        vertical-align: top;\n",
              "    }\n",
              "\n",
              "    .dataframe thead th {\n",
              "        text-align: right;\n",
              "    }\n",
              "</style>\n",
              "<table border=\"1\" class=\"dataframe\">\n",
              "  <thead>\n",
              "    <tr style=\"text-align: right;\">\n",
              "      <th></th>\n",
              "      <th>Dias</th>\n",
              "      <th>Tarefas Concluídas por Hora</th>\n",
              "    </tr>\n",
              "  </thead>\n",
              "  <tbody>\n",
              "    <tr>\n",
              "      <th>0</th>\n",
              "      <td>Segunda</td>\n",
              "      <td>0.83</td>\n",
              "    </tr>\n",
              "    <tr>\n",
              "      <th>1</th>\n",
              "      <td>Terça</td>\n",
              "      <td>0.57</td>\n",
              "    </tr>\n",
              "    <tr>\n",
              "      <th>2</th>\n",
              "      <td>Quarta</td>\n",
              "      <td>0.75</td>\n",
              "    </tr>\n",
              "    <tr>\n",
              "      <th>3</th>\n",
              "      <td>Quinta</td>\n",
              "      <td>0.67</td>\n",
              "    </tr>\n",
              "    <tr>\n",
              "      <th>4</th>\n",
              "      <td>Sexta</td>\n",
              "      <td>0.71</td>\n",
              "    </tr>\n",
              "    <tr>\n",
              "      <th>5</th>\n",
              "      <td>Sábado</td>\n",
              "      <td>0.60</td>\n",
              "    </tr>\n",
              "    <tr>\n",
              "      <th>6</th>\n",
              "      <td>Domingo</td>\n",
              "      <td>0.50</td>\n",
              "    </tr>\n",
              "  </tbody>\n",
              "</table>\n",
              "</div>"
            ],
            "text/plain": [
              "      Dias  Tarefas Concluídas por Hora\n",
              "0  Segunda                         0.83\n",
              "1    Terça                         0.57\n",
              "2   Quarta                         0.75\n",
              "3   Quinta                         0.67\n",
              "4    Sexta                         0.71\n",
              "5   Sábado                         0.60\n",
              "6  Domingo                         0.50"
            ]
          },
          "execution_count": 17,
          "metadata": {},
          "output_type": "execute_result"
        }
      ],
      "source": [
        "dados_semana2 = dados_semana[['Dias', 'Tarefas Concluídas por Hora']]\n",
        "dados_semana2"
      ]
    },
    {
      "cell_type": "markdown",
      "metadata": {},
      "source": [
        "* Nas duas figuras a seguir, foi ilustrado a relação entre os bugs corrigidos e as horas trabalhadas, evidenciando assim a eficiência na solução de problemas."
      ]
    },
    {
      "cell_type": "code",
      "execution_count": 19,
      "metadata": {},
      "outputs": [
        {
          "data": {
            "image/png": "[encoded data removed]",
            "text/plain": [
              "<Figure size 1800x500 with 2 Axes>"
            ]
          },
          "metadata": {},
          "output_type": "display_data"
        }
      ],
      "source": [
        "#Tamanho da figura e posicionamento.\n",
        "fig, (ax1, ax2) = plt.subplots(1, 2, figsize=(18,5))\n",
        "\n",
        "# Criar um gráfico de barras para visualizar as horas trabalhadas durante a semana.\n",
        "ax1.bar(dados_semana['Dias'], dados_semana['Horas Trabalhadas'],color='darkblue')\n",
        "\n",
        "# Mostrando a figura1.\n",
        "ax1.set_xlabel('Dias')\n",
        "ax1.set_ylabel('Horas Trabalhadas')\n",
        "ax1.set_title('Horas Trabalhadas ao longo da semana')\n",
        "fig.set_facecolor('gray')\n",
        "\n",
        "# Criar um gráfico de barras para visualizar os Bugs Corrigidos na semana.\n",
        "ax2.bar(dados_semana0['Dias'], dados_semana0['Bugs Corrigidos'], color='darkgreen' )\n",
        "\n",
        "# Obter a figura2.\n",
        "ax2.set_xlabel('Dias')\n",
        "ax2.set_ylabel('Bugs Corrigidos')\n",
        "ax2.set_title('Bugs Corrigidos ao longo da semana')\n",
        "\n",
        "# Exibir gráfico\n",
        "fig = plt.gcf()\n",
        "plt.show()"
      ]
    },
    {
      "cell_type": "markdown",
      "metadata": {},
      "source": [
        "* Nas próximas ilustrações, você verá a representação do número de tarefas executadas e concluídas por hora, demonstrando a produtividade da equipe a cada intervalo de tempo."
      ]
    },
    {
      "cell_type": "code",
      "execution_count": 20,
      "metadata": {},
      "outputs": [
        {
          "data": {
            "image/png": "[encoded data removed]",
            "text/plain": [
              "<Figure size 1800x500 with 2 Axes>"
            ]
          },
          "metadata": {},
          "output_type": "display_data"
        }
      ],
      "source": [
        "#Tamanho da figura e posicionamento.\n",
        "fig, (ax2, ax3) = plt.subplots(1, 2, figsize=(18,5))\n",
        "\n",
        "# Criar um gráfico de barras para visualizar as horas trabalhadas durante a semana.\n",
        "ax2.bar(dados_semana1['Dias'], dados_semana1['Tarefas Concluídas'],color='lightgreen')\n",
        "\n",
        "# Mostrando a figura.\n",
        "ax2.set_xlabel('Dias')\n",
        "ax2.set_ylabel('Tarefas Concluídas')\n",
        "ax2.set_title('Tarefas Concluídas(por dia) ao longo da semana')\n",
        "fig.set_facecolor('lightskyblue')\n",
        "\n",
        "# Criar um gráfico de barras para visualizar os Bugs Corrigidos na semana.\n",
        "ax3.bar(dados_semana2['Dias'], dados_semana2['Tarefas Concluídas por Hora'], color='yellow' )\n",
        "\n",
        "# Obter a figura atual\n",
        "ax3.set_xlabel('Dias')\n",
        "ax3.set_ylabel('Tarefas Concluídas por Hora')\n",
        "ax3.set_title('Tarefas Concluídas a cada hora')\n",
        "\n",
        "# Exibir gráfico\n",
        "fig = plt.gcf()\n",
        "plt.show()\n",
        "\n",
        "\n",
        "\n"
      ]
    }
  ],
  "metadata": {
    "colab": {
      "provenance": []
    },
    "kernelspec": {
      "display_name": "Python 3",
      "name": "python3"
    },
    "language_info": {
      "codemirror_mode": {
        "name": "ipython",
        "version": 3
      },
      "file_extension": ".py",
      "mimetype": "text/x-python",
      "name": "python",
      "nbconvert_exporter": "python",
      "pygments_lexer": "ipython3",
      "version": "3.11.3"
    }
  },
  "nbformat": 4,
  "nbformat_minor": 0
}
